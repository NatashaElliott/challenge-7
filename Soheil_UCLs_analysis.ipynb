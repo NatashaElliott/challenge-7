{
 "cells": [
  {
   "cell_type": "markdown",
   "id": "0549b811-c311-4661-8a10-dd1d5b751904",
   "metadata": {},
   "source": [
    "### Which UCLs consistently meet or fail to meet the 85% or 90% response time targets for Code 1 incidents?"
   ]
  },
  {
   "cell_type": "code",
   "execution_count": 102,
   "id": "cb1c5eb1-6cdc-4da7-88e7-30d015f24a8a",
   "metadata": {},
   "outputs": [],
   "source": [
    "from pathlib import Path\n",
    "import pandas as pd\n",
    "import matplotlib.pyplot as plt"
   ]
  },
  {
   "cell_type": "code",
   "execution_count": 104,
   "id": "cbae1677-9e26-467e-8d59-0fd8e16040a2",
   "metadata": {},
   "outputs": [],
   "source": [
    "# Load the provided CSV files\n",
    "\n",
    "census_2018 = Path(\"Data/censusdata2018.csv\")\n",
    "ambulance_2018 = Path(\"Data/ambulance2018.csv\")\n",
    "ambulance_2019 = Path(\"Data/ambulance2019.csv\")"
   ]
  },
  {
   "cell_type": "code",
   "execution_count": 106,
   "id": "5bdae4f1-b135-4e65-89e8-3887b1fc8ed5",
   "metadata": {},
   "outputs": [],
   "source": [
    "census_data_2018 = pd.read_csv(census_2018)\n",
    "ambulance_data_2018 = pd.read_csv(ambulance_2018)\n",
    "ambulance_data_2019 = pd.read_csv(ambulance_2019)"
   ]
  },
  {
   "cell_type": "code",
   "execution_count": 108,
   "id": "e38f054a-2a11-4a35-a0c1-b36b58114c94",
   "metadata": {},
   "outputs": [
    {
     "data": {
      "text/html": [
       "<div>\n",
       "<style scoped>\n",
       "    .dataframe tbody tr th:only-of-type {\n",
       "        vertical-align: middle;\n",
       "    }\n",
       "\n",
       "    .dataframe tbody tr th {\n",
       "        vertical-align: top;\n",
       "    }\n",
       "\n",
       "    .dataframe thead th {\n",
       "        text-align: right;\n",
       "    }\n",
       "</style>\n",
       "<table border=\"1\" class=\"dataframe\">\n",
       "  <thead>\n",
       "    <tr style=\"text-align: right;\">\n",
       "      <th></th>\n",
       "      <th>Year</th>\n",
       "      <th>level_1</th>\n",
       "      <th>UCL Name</th>\n",
       "      <th>%&lt;=15mins</th>\n",
       "    </tr>\n",
       "  </thead>\n",
       "  <tbody>\n",
       "    <tr>\n",
       "      <th>0</th>\n",
       "      <td>2018</td>\n",
       "      <td>0</td>\n",
       "      <td>Albury - Wodonga (Wodonga Part)</td>\n",
       "      <td>91.35</td>\n",
       "    </tr>\n",
       "    <tr>\n",
       "      <th>1</th>\n",
       "      <td>2018</td>\n",
       "      <td>1</td>\n",
       "      <td>Bacchus Marsh</td>\n",
       "      <td>79.85</td>\n",
       "    </tr>\n",
       "    <tr>\n",
       "      <th>2</th>\n",
       "      <td>2018</td>\n",
       "      <td>2</td>\n",
       "      <td>Bairnsdale</td>\n",
       "      <td>85.61</td>\n",
       "    </tr>\n",
       "    <tr>\n",
       "      <th>3</th>\n",
       "      <td>2018</td>\n",
       "      <td>3</td>\n",
       "      <td>Ballarat</td>\n",
       "      <td>89.32</td>\n",
       "    </tr>\n",
       "    <tr>\n",
       "      <th>4</th>\n",
       "      <td>2018</td>\n",
       "      <td>4</td>\n",
       "      <td>Benalla</td>\n",
       "      <td>84.08</td>\n",
       "    </tr>\n",
       "  </tbody>\n",
       "</table>\n",
       "</div>"
      ],
      "text/plain": [
       "   Year  level_1                         UCL Name  %<=15mins\n",
       "0  2018        0  Albury - Wodonga (Wodonga Part)      91.35\n",
       "1  2018        1                    Bacchus Marsh      79.85\n",
       "2  2018        2                       Bairnsdale      85.61\n",
       "3  2018        3                         Ballarat      89.32\n",
       "4  2018        4                          Benalla      84.08"
      ]
     },
     "execution_count": 108,
     "metadata": {},
     "output_type": "execute_result"
    }
   ],
   "source": [
    "# Cleaning and formatting the 'ambulance_data_2018' and 'ambulance_data_2019' datasets for analysis\n",
    "\n",
    "# Removing '%' and converting the 'percentage <= 15 minutes' columns to numeric for comparison\n",
    "\n",
    "ambulance_data_2018['%<=15mins'] = ambulance_data_2018['%<=15mins'].str.replace('%', '').astype(float)\n",
    "ambulance_data_2019['%<=15mins'] = ambulance_data_2019['%<=15mins'].str.replace('%', '').astype(float)\n",
    "\n",
    "# Combining the 2018 and 2019 data for easier analysis\n",
    "\n",
    "combined_data = pd.concat([ambulance_data_2018[['UCL Name', '%<=15mins']],\n",
    "                           ambulance_data_2019[['UCL Name', '%<=15mins']]], \n",
    "                          keys=['2018', '2019'], names=['Year']).reset_index()\n",
    "combined_data.head()\n"
   ]
  },
  {
   "cell_type": "code",
   "execution_count": 110,
   "id": "dc63b5a5-65dd-4e89-904b-31d8617574a1",
   "metadata": {},
   "outputs": [
    {
     "data": {
      "text/html": [
       "<div>\n",
       "<style scoped>\n",
       "    .dataframe tbody tr th:only-of-type {\n",
       "        vertical-align: middle;\n",
       "    }\n",
       "\n",
       "    .dataframe tbody tr th {\n",
       "        vertical-align: top;\n",
       "    }\n",
       "\n",
       "    .dataframe thead th {\n",
       "        text-align: right;\n",
       "    }\n",
       "</style>\n",
       "<table border=\"1\" class=\"dataframe\">\n",
       "  <thead>\n",
       "    <tr style=\"text-align: right;\">\n",
       "      <th></th>\n",
       "      <th>UCL Name</th>\n",
       "      <th>%&lt;=15mins</th>\n",
       "    </tr>\n",
       "  </thead>\n",
       "  <tbody>\n",
       "    <tr>\n",
       "      <th>0</th>\n",
       "      <td>Albury - Wodonga (Wodonga Part)</td>\n",
       "      <td>91.125</td>\n",
       "    </tr>\n",
       "    <tr>\n",
       "      <th>1</th>\n",
       "      <td>Bacchus Marsh</td>\n",
       "      <td>81.625</td>\n",
       "    </tr>\n",
       "    <tr>\n",
       "      <th>2</th>\n",
       "      <td>Bairnsdale</td>\n",
       "      <td>84.855</td>\n",
       "    </tr>\n",
       "    <tr>\n",
       "      <th>3</th>\n",
       "      <td>Ballarat</td>\n",
       "      <td>90.260</td>\n",
       "    </tr>\n",
       "    <tr>\n",
       "      <th>4</th>\n",
       "      <td>Benalla</td>\n",
       "      <td>80.240</td>\n",
       "    </tr>\n",
       "    <tr>\n",
       "      <th>5</th>\n",
       "      <td>Bendigo</td>\n",
       "      <td>86.825</td>\n",
       "    </tr>\n",
       "    <tr>\n",
       "      <th>6</th>\n",
       "      <td>Castlemaine</td>\n",
       "      <td>72.215</td>\n",
       "    </tr>\n",
       "    <tr>\n",
       "      <th>7</th>\n",
       "      <td>Colac</td>\n",
       "      <td>85.785</td>\n",
       "    </tr>\n",
       "    <tr>\n",
       "      <th>8</th>\n",
       "      <td>Drouin</td>\n",
       "      <td>79.950</td>\n",
       "    </tr>\n",
       "    <tr>\n",
       "      <th>9</th>\n",
       "      <td>Drysdale - Clifton Springs</td>\n",
       "      <td>83.540</td>\n",
       "    </tr>\n",
       "  </tbody>\n",
       "</table>\n",
       "</div>"
      ],
      "text/plain": [
       "                          UCL Name  %<=15mins\n",
       "0  Albury - Wodonga (Wodonga Part)     91.125\n",
       "1                    Bacchus Marsh     81.625\n",
       "2                       Bairnsdale     84.855\n",
       "3                         Ballarat     90.260\n",
       "4                          Benalla     80.240\n",
       "5                          Bendigo     86.825\n",
       "6                      Castlemaine     72.215\n",
       "7                            Colac     85.785\n",
       "8                           Drouin     79.950\n",
       "9       Drysdale - Clifton Springs     83.540"
      ]
     },
     "execution_count": 110,
     "metadata": {},
     "output_type": "execute_result"
    }
   ],
   "source": [
    "# Calculating the mean response time performance across the two years\n",
    "\n",
    "mean_performance = combined_data.groupby('UCL Name')['%<=15mins'].mean().reset_index()\n",
    "mean_performance.head(10)\n"
   ]
  },
  {
   "cell_type": "code",
   "execution_count": 112,
   "id": "f8191cdd-7242-4b36-a518-c5e58865262c",
   "metadata": {},
   "outputs": [],
   "source": [
    "# Identifying UCLs that meet or fail the 85% and 90% targets\n",
    "mean_performance['Performance'] = mean_performance['%<=15mins'].apply(\n",
    "    lambda x: 'Meet 90% Target' if x >= 90 else ('Fail 85% Target' if x < 85 else 'Between 85%-90%')\n",
    ")\n",
    "\n",
    "# Counting the number of UCLs that meet the 90%, fail the 85%, or fall in between\n",
    "\n",
    "performance_counts = mean_performance['Performance'].value_counts()"
   ]
  },
  {
   "cell_type": "code",
   "execution_count": 114,
   "id": "53c9e9e5-24e0-461c-a540-93080b618470",
   "metadata": {},
   "outputs": [
    {
     "data": {
      "image/png": "[encoded data removed]",
      "text/plain": [
       "<Figure size 800x600 with 1 Axes>"
      ]
     },
     "metadata": {},
     "output_type": "display_data"
    }
   ],
   "source": [
    "# Pie chart visualization\n",
    "\n",
    "plt.figure(figsize=(8, 6))\n",
    "plt.pie(performance_counts, labels=performance_counts.index, autopct='%1.1f%%', startangle=140, colors=['orange', 'red', 'green'])\n",
    "plt.title('Proportion of UCLs Meeting or Failing Response Time Targets')\n",
    "plt.show()"
   ]
  },
  {
   "cell_type": "code",
   "execution_count": 128,
   "id": "17ba6a06-a3d2-4787-9277-20dc7ca4ddc3",
   "metadata": {},
   "outputs": [
    {
     "data": {
      "text/html": [
       "<div>\n",
       "<style scoped>\n",
       "    .dataframe tbody tr th:only-of-type {\n",
       "        vertical-align: middle;\n",
       "    }\n",
       "\n",
       "    .dataframe tbody tr th {\n",
       "        vertical-align: top;\n",
       "    }\n",
       "\n",
       "    .dataframe thead th {\n",
       "        text-align: right;\n",
       "    }\n",
       "</style>\n",
       "<table border=\"1\" class=\"dataframe\">\n",
       "  <thead>\n",
       "    <tr style=\"text-align: right;\">\n",
       "      <th></th>\n",
       "      <th>UCL Name</th>\n",
       "      <th>%&lt;=15mins</th>\n",
       "      <th>Performance</th>\n",
       "    </tr>\n",
       "  </thead>\n",
       "  <tbody>\n",
       "    <tr>\n",
       "      <th>0</th>\n",
       "      <td>Albury - Wodonga (Wodonga Part)</td>\n",
       "      <td>91.125</td>\n",
       "      <td>Meet 90% Target</td>\n",
       "    </tr>\n",
       "    <tr>\n",
       "      <th>1</th>\n",
       "      <td>Bacchus Marsh</td>\n",
       "      <td>81.625</td>\n",
       "      <td>Fail 85% Target</td>\n",
       "    </tr>\n",
       "    <tr>\n",
       "      <th>2</th>\n",
       "      <td>Bairnsdale</td>\n",
       "      <td>84.855</td>\n",
       "      <td>Fail 85% Target</td>\n",
       "    </tr>\n",
       "    <tr>\n",
       "      <th>3</th>\n",
       "      <td>Ballarat</td>\n",
       "      <td>90.260</td>\n",
       "      <td>Meet 90% Target</td>\n",
       "    </tr>\n",
       "    <tr>\n",
       "      <th>4</th>\n",
       "      <td>Benalla</td>\n",
       "      <td>80.240</td>\n",
       "      <td>Fail 85% Target</td>\n",
       "    </tr>\n",
       "  </tbody>\n",
       "</table>\n",
       "</div>"
      ],
      "text/plain": [
       "                          UCL Name  %<=15mins      Performance\n",
       "0  Albury - Wodonga (Wodonga Part)     91.125  Meet 90% Target\n",
       "1                    Bacchus Marsh     81.625  Fail 85% Target\n",
       "2                       Bairnsdale     84.855  Fail 85% Target\n",
       "3                         Ballarat     90.260  Meet 90% Target\n",
       "4                          Benalla     80.240  Fail 85% Target"
      ]
     },
     "execution_count": 128,
     "metadata": {},
     "output_type": "execute_result"
    }
   ],
   "source": [
    "# Displaying the first few rows of the performance table for review\n",
    "mean_performance.head()"
   ]
  },
  {
   "cell_type": "code",
   "execution_count": null,
   "id": "bd3b47e1-beec-45f6-a4fd-b069aa49047d",
   "metadata": {},
   "outputs": [],
   "source": []
  }
 ],
 "metadata": {
  "kernelspec": {
   "display_name": "Python 3 (ipykernel)",
   "language": "python",
   "name": "python3"
  },
  "language_info": {
   "codemirror_mode": {
    "name": "ipython",
    "version": 3
   },
   "file_extension": ".py",
   "mimetype": "text/x-python",
   "name": "python",
   "nbconvert_exporter": "python",
   "pygments_lexer": "ipython3",
   "version": "3.12.4"
  }
 },
 "nbformat": 4,
 "nbformat_minor": 5
}
